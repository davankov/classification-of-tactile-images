{
 "cells": [
  {
   "cell_type": "code",
   "execution_count": 13,
   "metadata": {
    "collapsed": false
   },
   "outputs": [],
   "source": [
    "#! /usr/bin/python3.4\n",
    "import os\n",
    "\n",
    "types = {\"stick\": 1, \"point\": 2, \"ring\": 3, \"uniform\": 4}\n",
    "\n",
    "\n",
    "def read_file(train, tpe):\n",
    "    for file_name in os.listdir(\"data (train)/{}\".format(tpe)):\n",
    "        with open(\"data (train)/{}/\".format(tpe) + file_name, \"r\") as f:\n",
    "            for line in f.readlines()[1:]:\n",
    "                    train.write(line.rstrip() + \", {}\\n\".format(types[tpe]))\n",
    "\n",
    "\n",
    "with open(\"data (train)/train_sec.csv\", \"w\") as f:\n",
    "    for tpe in types.keys():\n",
    "        read_file(f, tpe)"
   ]
  },
  {
   "cell_type": "code",
   "execution_count": null,
   "metadata": {
    "collapsed": true
   },
   "outputs": [],
   "source": []
  }
 ],
 "metadata": {
  "kernelspec": {
   "display_name": "Python 3",
   "language": "python",
   "name": "python3"
  },
  "language_info": {
   "codemirror_mode": {
    "name": "ipython",
    "version": 3
   },
   "file_extension": ".py",
   "mimetype": "text/x-python",
   "name": "python",
   "nbconvert_exporter": "python",
   "pygments_lexer": "ipython3",
   "version": "3.5.1"
  }
 },
 "nbformat": 4,
 "nbformat_minor": 0
}
