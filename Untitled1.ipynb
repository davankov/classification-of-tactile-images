{
 "cells": [
  {
   "cell_type": "code",
   "execution_count": 2,
   "metadata": {
    "collapsed": true
   },
   "outputs": [],
   "source": [
    "%matplotlib inline\n",
    "import os\n",
    "import pandas as pnd\n",
    "import numpy as np\n",
    "import matplotlib.pyplot as plt\n",
    "import sklearn\n",
    "from sklearn.decomposition import PCA\n",
    "from sklearn.cluster import KMeans\n",
    "from sklearn import ensemble\n",
    "from sklearn import cross_validation"
   ]
  },
  {
   "cell_type": "code",
   "execution_count": 3,
   "metadata": {
    "collapsed": false
   },
   "outputs": [
    {
     "data": {
      "text/html": [
       "<div>\n",
       "<table border=\"1\" class=\"dataframe\">\n",
       "  <thead>\n",
       "    <tr style=\"text-align: right;\">\n",
       "      <th></th>\n",
       "      <th>0</th>\n",
       "      <th>1</th>\n",
       "      <th>2</th>\n",
       "      <th>3</th>\n",
       "      <th>4</th>\n",
       "      <th>5</th>\n",
       "      <th>6</th>\n",
       "      <th>7</th>\n",
       "      <th>8</th>\n",
       "      <th>9</th>\n",
       "      <th>10</th>\n",
       "      <th>11</th>\n",
       "      <th>12</th>\n",
       "      <th>13</th>\n",
       "      <th>14</th>\n",
       "      <th>15</th>\n",
       "      <th>16</th>\n",
       "      <th>17</th>\n",
       "      <th>18</th>\n",
       "      <th>19</th>\n",
       "    </tr>\n",
       "  </thead>\n",
       "  <tbody>\n",
       "    <tr>\n",
       "      <th>6015</th>\n",
       "      <td>3</td>\n",
       "      <td>12</td>\n",
       "      <td>14</td>\n",
       "      <td>9</td>\n",
       "      <td>14</td>\n",
       "      <td>30</td>\n",
       "      <td>21</td>\n",
       "      <td>6</td>\n",
       "      <td>26</td>\n",
       "      <td>88</td>\n",
       "      <td>38</td>\n",
       "      <td>21</td>\n",
       "      <td>18</td>\n",
       "      <td>40</td>\n",
       "      <td>32</td>\n",
       "      <td>16</td>\n",
       "      <td>25</td>\n",
       "      <td>18</td>\n",
       "      <td>8</td>\n",
       "      <td>2</td>\n",
       "    </tr>\n",
       "    <tr>\n",
       "      <th>6016</th>\n",
       "      <td>3</td>\n",
       "      <td>12</td>\n",
       "      <td>14</td>\n",
       "      <td>9</td>\n",
       "      <td>14</td>\n",
       "      <td>30</td>\n",
       "      <td>21</td>\n",
       "      <td>6</td>\n",
       "      <td>26</td>\n",
       "      <td>87</td>\n",
       "      <td>37</td>\n",
       "      <td>20</td>\n",
       "      <td>18</td>\n",
       "      <td>39</td>\n",
       "      <td>31</td>\n",
       "      <td>16</td>\n",
       "      <td>25</td>\n",
       "      <td>18</td>\n",
       "      <td>7</td>\n",
       "      <td>2</td>\n",
       "    </tr>\n",
       "    <tr>\n",
       "      <th>6017</th>\n",
       "      <td>3</td>\n",
       "      <td>12</td>\n",
       "      <td>14</td>\n",
       "      <td>9</td>\n",
       "      <td>14</td>\n",
       "      <td>30</td>\n",
       "      <td>20</td>\n",
       "      <td>6</td>\n",
       "      <td>26</td>\n",
       "      <td>86</td>\n",
       "      <td>37</td>\n",
       "      <td>20</td>\n",
       "      <td>18</td>\n",
       "      <td>39</td>\n",
       "      <td>31</td>\n",
       "      <td>15</td>\n",
       "      <td>25</td>\n",
       "      <td>18</td>\n",
       "      <td>7</td>\n",
       "      <td>2</td>\n",
       "    </tr>\n",
       "    <tr>\n",
       "      <th>6018</th>\n",
       "      <td>3</td>\n",
       "      <td>12</td>\n",
       "      <td>13</td>\n",
       "      <td>9</td>\n",
       "      <td>13</td>\n",
       "      <td>30</td>\n",
       "      <td>20</td>\n",
       "      <td>6</td>\n",
       "      <td>25</td>\n",
       "      <td>86</td>\n",
       "      <td>36</td>\n",
       "      <td>20</td>\n",
       "      <td>18</td>\n",
       "      <td>38</td>\n",
       "      <td>31</td>\n",
       "      <td>15</td>\n",
       "      <td>24</td>\n",
       "      <td>18</td>\n",
       "      <td>7</td>\n",
       "      <td>2</td>\n",
       "    </tr>\n",
       "    <tr>\n",
       "      <th>6019</th>\n",
       "      <td>3</td>\n",
       "      <td>12</td>\n",
       "      <td>13</td>\n",
       "      <td>9</td>\n",
       "      <td>13</td>\n",
       "      <td>29</td>\n",
       "      <td>20</td>\n",
       "      <td>6</td>\n",
       "      <td>25</td>\n",
       "      <td>85</td>\n",
       "      <td>36</td>\n",
       "      <td>20</td>\n",
       "      <td>17</td>\n",
       "      <td>38</td>\n",
       "      <td>30</td>\n",
       "      <td>15</td>\n",
       "      <td>24</td>\n",
       "      <td>18</td>\n",
       "      <td>7</td>\n",
       "      <td>2</td>\n",
       "    </tr>\n",
       "  </tbody>\n",
       "</table>\n",
       "</div>"
      ],
      "text/plain": [
       "      0   1   2   3   4   5   6   7   8   9   10  11  12  13  14  15  16  17  \\\n",
       "6015   3  12  14   9  14  30  21   6  26  88  38  21  18  40  32  16  25  18   \n",
       "6016   3  12  14   9  14  30  21   6  26  87  37  20  18  39  31  16  25  18   \n",
       "6017   3  12  14   9  14  30  20   6  26  86  37  20  18  39  31  15  25  18   \n",
       "6018   3  12  13   9  13  30  20   6  25  86  36  20  18  38  31  15  24  18   \n",
       "6019   3  12  13   9  13  29  20   6  25  85  36  20  17  38  30  15  24  18   \n",
       "\n",
       "      18  19  \n",
       "6015   8   2  \n",
       "6016   7   2  \n",
       "6017   7   2  \n",
       "6018   7   2  \n",
       "6019   7   2  "
      ]
     },
     "execution_count": 3,
     "metadata": {},
     "output_type": "execute_result"
    }
   ],
   "source": [
    "data = pnd.read_csv(\"data (train)/train_sec_YX.csv\", header=None)\n",
    "data.tail()"
   ]
  },
  {
   "cell_type": "code",
   "execution_count": 4,
   "metadata": {
    "collapsed": false
   },
   "outputs": [
    {
     "name": "stdout",
     "output_type": "stream",
     "text": [
      "      0   1   2   3    4    5   6   7    8    9    10  11  12   13   14  15  \\\n",
      "0     10  16  20  12    7   16  21  10   15   11   21  24  21   11   10  20   \n",
      "1     12  18  22  13    9   19  23  12   17   13   23  27  23   13   12  21   \n",
      "2     12  19  23  14   10   20  24  12   18   13   24  28  24   14   13  22   \n",
      "3     12  19  24  14   10   20  24  13   18   14   24  29  25   14   13  22   \n",
      "4     12  19  24  14   10   21  24  13   19   14   24  29  25   14   14  22   \n",
      "5     13  20  24  14   11   21  25  13   19   14   25  29  25   15   14  22   \n",
      "6     13  20  25  15   11   21  25  14   19   14   25  30  25   15   14  23   \n",
      "7     14  21  26  15   12   22  27  14   20   15   26  32  27   16   16  24   \n",
      "8     14  22  27  16   13   23  28  15   21   16   28  34  28   18   17  25   \n",
      "9     15  23  28  17   14   25  29  16   23   17   29  35  29   19   18  26   \n",
      "10    16  24  30  18   16   27  31  17   24   19   31  39  31   21   21  28   \n",
      "11    18  26  32  19   18   29  33  19   26   21   33  42  32   23   23  30   \n",
      "12    18  27  33  20   18   29  33  19   27   22   33  43  33   24   24  30   \n",
      "13    19  28  34  20   20   31  35  20   28   23   35  45  34   26   25  32   \n",
      "14    20  29  35  21   21   32  35  21   29   24   36  46  35   27   26  32   \n",
      "15    20  30  36  22   22   32  36  22   30   25   36  47  36   28   27  33   \n",
      "16    21  30  36  22   22   33  36  22   31   25   36  47  37   28   27  33   \n",
      "17    20  30  36  22   22   32  36  22   30   24   36  46  36   27   27  32   \n",
      "18    20  29  34  21   20   31  34  21   29   23   34  44  35   26   25  31   \n",
      "19    18  27  33  20   18   30  33  19   27   21   33  42  33   23   23  29   \n",
      "20    16  25  30  18   16   27  30  17   24   19   30  38  31   20   20  27   \n",
      "21    13  21  25  15   12   23  26  14   20   16   26  32  27   16   16  24   \n",
      "22    10  17  21  13    9   19  22  11   17   13   22  27  23   12   12  21   \n",
      "23     8  15  17  11    7   16  19   9   15   11   19  22  20    9   10  18   \n",
      "24     6  12  14   8    5   13  16   7   12    9   16  18  17    7    7  16   \n",
      "43    31  47  40  35   69   59  42  28   64   77   56  44  43   68   64  37   \n",
      "44    37  56  48  42   87   74  51  34   81   97   71  53  53   85   82  45   \n",
      "45    40  62  54  46  100   87  59  38   93  114   84  61  61   99   99  53   \n",
      "46    41  66  58  49  109   96  65  40  101  126   95  69  66  111  114  60   \n",
      "47    42  68  61  50  114  103  70  42  107  136  104  76  70  119  125  67   \n",
      "...   ..  ..  ..  ..  ...  ...  ..  ..  ...  ...  ...  ..  ..  ...  ...  ..   \n",
      "5990   4  13  15  10   16   33  23   7   28   89   41  23  19   42   35  17   \n",
      "5991   4  14  16  11   17   35  24   7   30   94   44  25  21   45   38  18   \n",
      "5992   4  15  17  11   17   36  25   8   31   99   46  26  22   47   40  19   \n",
      "5993   5  15  18  12   18   38  27   8   33  104   48  28  23   50   42  20   \n",
      "5994   5  16  18  12   18   38  27   8   33  105   48  28  23   50   42  20   \n",
      "5995   5  16  18  12   18   38  26   8   33  105   48  27  23   50   42  20   \n",
      "5996   5  15  18  12   18   38  26   8   32  104   48  27  23   49   41  20   \n",
      "5997   4  15  18  12   18   37  26   8   32  104   47  27  22   49   41  19   \n",
      "5998   4  15  17  11   18   37  26   8   32  103   47  26  22   48   40  19   \n",
      "5999   4  15  17  11   17   37  25   8   32  103   46  26  22   48   40  19   \n",
      "6000   4  15  17  11   17   36  25   8   31  102   46  26  22   48   40  19   \n",
      "6001   4  15  17  11   17   36  25   8   31  102   46  26  22   47   39  19   \n",
      "6002   4  15  17  11   17   36  25   8   31  101   45  25  21   47   39  19   \n",
      "6003   4  14  16  11   16   35  24   7   30   98   43  24  21   45   37  18   \n",
      "6004   4  14  16  10   16   34  23   7   29   96   42  24  20   44   36  18   \n",
      "6005   4  14  16  10   16   34  23   7   29   95   42  23  20   44   35  17   \n",
      "6006   4  13  16  10   16   33  23   7   29   95   42  23  20   43   35  17   \n",
      "6007   4  13  15  10   15   33  23   7   29   94   41  23  20   43   35  17   \n",
      "6008   4  13  15  10   15   33  22   7   28   94   41  23  20   43   35  17   \n",
      "6009   4  13  15  10   15   32  22   7   28   93   40  22  19   42   34  17   \n",
      "6010   4  13  15  10   15   32  22   7   28   91   40  22  19   41   33  16   \n",
      "6011   3  13  14  10   14   31  21   6   27   90   39  21  19   41   33  16   \n",
      "6012   3  12  14   9   14   31  21   6   27   89   38  21  19   40   32  16   \n",
      "6013   3  12  14   9   14   31  21   6   26   88   38  21  18   40   32  16   \n",
      "6014   3  12  14   9   14   31  21   6   26   88   38  21  18   40   32  16   \n",
      "6015   3  12  14   9   14   30  21   6   26   88   38  21  18   40   32  16   \n",
      "6016   3  12  14   9   14   30  21   6   26   87   37  20  18   39   31  16   \n",
      "6017   3  12  14   9   14   30  20   6   26   86   37  20  18   39   31  15   \n",
      "6018   3  12  13   9   13   30  20   6   25   86   36  20  18   38   31  15   \n",
      "6019   3  12  13   9   13   29  20   6   25   85   36  20  17   38   30  15   \n",
      "\n",
      "      16  17  18  \n",
      "0     19  25  24  \n",
      "1     21  28  26  \n",
      "2     22  29  27  \n",
      "3     23  30  27  \n",
      "4     23  30  27  \n",
      "5     23  30  27  \n",
      "6     23  30  28  \n",
      "7     25  32  29  \n",
      "8     26  34  30  \n",
      "9     27  35  31  \n",
      "10    30  38  34  \n",
      "11    31  40  36  \n",
      "12    32  41  36  \n",
      "13    34  43  38  \n",
      "14    35  44  39  \n",
      "15    36  45  39  \n",
      "16    36  45  40  \n",
      "17    35  44  39  \n",
      "18    34  43  38  \n",
      "19    32  41  36  \n",
      "20    29  37  33  \n",
      "21    25  33  30  \n",
      "22    21  28  26  \n",
      "23    17  24  23  \n",
      "24    14  20  19  \n",
      "43    53  48  33  \n",
      "44    65  58  40  \n",
      "45    75  67  46  \n",
      "46    84  75  52  \n",
      "47    90  82  57  \n",
      "...   ..  ..  ..  \n",
      "5990  27  20   9  \n",
      "5991  29  21   9  \n",
      "5992  30  22  10  \n",
      "5993  32  23  10  \n",
      "5994  32  23  10  \n",
      "5995  32  23  10  \n",
      "5996  31  23  10  \n",
      "5997  31  23  10  \n",
      "5998  31  23  10  \n",
      "5999  30  22  10  \n",
      "6000  30  22   9  \n",
      "6001  30  22   9  \n",
      "6002  30  22   9  \n",
      "6003  29  21   9  \n",
      "6004  28  21   9  \n",
      "6005  28  20   8  \n",
      "6006  27  20   8  \n",
      "6007  27  20   8  \n",
      "6008  27  20   8  \n",
      "6009  27  20   8  \n",
      "6010  26  19   8  \n",
      "6011  26  19   8  \n",
      "6012  26  19   8  \n",
      "6013  25  19   8  \n",
      "6014  25  19   8  \n",
      "6015  25  18   8  \n",
      "6016  25  18   7  \n",
      "6017  25  18   7  \n",
      "6018  24  18   7  \n",
      "6019  24  18   7  \n",
      "\n",
      "[4661 rows x 19 columns]\n"
     ]
    }
   ],
   "source": [
    "Y = data[19]\n",
    "X = data.iloc[:, 0:19]\n",
    "bad_idxs = []\n",
    "#print(X.shape[0])\n",
    "for i in range(X.shape[0]):\n",
    "    #print(i)\n",
    "    if max(X.iloc[i]) < 20:\n",
    "        #print(i)\n",
    "        bad_idxs.append(i)\n",
    "X = X.drop(bad_idxs, axis=0)\n",
    "print(X)\n",
    "Y = Y.drop(bad_idxs, axis=0)\n",
    "#print(list(Y))\n",
    "# s = 0\n",
    "# for i in range(0, Y.size):\n",
    "#     if Y[i] == 3:\n",
    "#         s += 1\n",
    "# print(s+ 2682)\n",
    "#Y.size"
   ]
  },
  {
   "cell_type": "code",
   "execution_count": 5,
   "metadata": {
    "collapsed": false
   },
   "outputs": [
    {
     "data": {
      "image/png": "[encoded data removed]",
      "text/plain": [
       "<matplotlib.figure.Figure at 0x7f17124874a8>"
      ]
     },
     "metadata": {},
     "output_type": "display_data"
    }
   ],
   "source": [
    "explained = []\n",
    "for i in range(1, 20):\n",
    "    pca = PCA(n_components=i)\n",
    "    pca.fit(X)\n",
    "    explained.append(sum(pca.explained_variance_ratio_))\n",
    "#     print(pca.explained_variance_ratio_)\n",
    "plt.plot(np.arange(1, 20), explained)\n",
    "plt.show()"
   ]
  },
  {
   "cell_type": "code",
   "execution_count": 6,
   "metadata": {
    "collapsed": false
   },
   "outputs": [
    {
     "data": {
      "text/plain": [
       "<matplotlib.collections.LineCollection at 0x7f16fd7a4470>"
      ]
     },
     "execution_count": 6,
     "metadata": {},
     "output_type": "execute_result"
    },
    {
     "data": {
      "image/png": "[encoded data removed]",
      "text/plain": [
       "<matplotlib.figure.Figure at 0x7f16ffe64e10>"
      ]
     },
     "metadata": {},
     "output_type": "display_data"
    }
   ],
   "source": [
    "t = 15\n",
    "km = KMeans(n_clusters= t)\n",
    "km.fit(X)\n",
    "lables = km.labels_\n",
    "#print(list(lables))\n",
    "#2464, 2682, 3430\n",
    "arr = [0 for i in range(t)]\n",
    "# for i in range(0, lables.size):\n",
    "#     if lables[i] == 0:\n",
    "#         arr[0] = arr[0] +1\n",
    "#     if lables[i] == 1:\n",
    "#         arr[1] = arr[1] +1\n",
    "#     if lables[i] == 2:\n",
    "#         arr[2] = arr[2] +1\n",
    "#     if lables[i] == 3:\n",
    "#         arr[3] = arr[3] +1\n",
    "#     if lables[i] == 4:\n",
    "#         arr[4] = arr[4] +1\n",
    "# print(arr)\n",
    "plt.plot(lables, 'bx')\n",
    "plt.vlines(2464, ymin=0, ymax=t)\n",
    "plt.vlines(2682, ymin=0, ymax=t)\n",
    "plt.vlines(3430, ymin=0, ymax=t)"
   ]
  },
  {
   "cell_type": "code",
   "execution_count": 5,
   "metadata": {
    "collapsed": false
   },
   "outputs": [],
   "source": [
    "clf = ensemble.GradientBoostingClassifier(loss='deviance', verbose=1, n_estimators=200)\n",
    "kf = sklearn.cross_validation.KFold(X.shape[0], n_folds=3, shuffle=True, random_state=12)\n",
    "#score = sklearn.cross_validation.cross_val_score(clf, X, Y, cv=kf,  scoring='accuracy').mean()\n",
    "#print(score)"
   ]
  },
  {
   "cell_type": "code",
   "execution_count": 6,
   "metadata": {
    "collapsed": false
   },
   "outputs": [
    {
     "name": "stdout",
     "output_type": "stream",
     "text": [
      "      Iter       Train Loss   Remaining Time \n",
      "         1        5422.8953           14.51s\n",
      "         2        4901.3075           11.94s\n",
      "         3        4468.0219           10.34s\n",
      "         4        4085.7439            9.67s\n",
      "         5        3772.7977            9.03s\n",
      "         6        3495.5913            8.76s\n",
      "         7        3259.0392            8.42s\n",
      "         8        3045.4857            8.26s\n",
      "         9        2853.4998            8.03s\n",
      "        10        2684.7850            7.93s\n",
      "        20        1682.6475            6.79s\n",
      "        30        1177.1047            6.23s\n",
      "        40         877.9442            5.79s\n",
      "        50         665.4414            5.36s\n",
      "        60         515.5822            4.97s\n",
      "        70         408.4872            4.59s\n",
      "        80         327.5920            4.21s\n",
      "        90         268.4180            3.86s\n",
      "       100         221.6433            3.50s\n",
      "       200          42.0532            0.00s\n"
     ]
    },
    {
     "data": {
      "text/plain": [
       "GradientBoostingClassifier(init=None, learning_rate=0.1, loss='deviance',\n",
       "              max_depth=3, max_features=None, max_leaf_nodes=None,\n",
       "              min_samples_leaf=1, min_samples_split=2,\n",
       "              min_weight_fraction_leaf=0.0, n_estimators=200,\n",
       "              presort='auto', random_state=None, subsample=1.0, verbose=1,\n",
       "              warm_start=False)"
      ]
     },
     "execution_count": 6,
     "metadata": {},
     "output_type": "execute_result"
    }
   ],
   "source": [
    "clf.fit(X, Y)"
   ]
  },
  {
   "cell_type": "code",
   "execution_count": 119,
   "metadata": {
    "collapsed": false
   },
   "outputs": [
    {
     "data": {
      "text/plain": [
       "array([1])"
      ]
     },
     "execution_count": 119,
     "metadata": {},
     "output_type": "execute_result"
    }
   ],
   "source": [
    "clf.predict(np.array([0,0,0,0,0,0,0,0,0,240,0,0,0,0,0,0,0,0,0]).reshape(1, -1))"
   ]
  },
  {
   "cell_type": "code",
   "execution_count": 103,
   "metadata": {
    "collapsed": false
   },
   "outputs": [
    {
     "data": {
      "text/plain": [
       "array([1])"
      ]
     },
     "execution_count": 103,
     "metadata": {},
     "output_type": "execute_result"
    }
   ],
   "source": [
    "clf.predict(np.array([30,43,32,28,200,180,50,60,220,100,250,80,50,243,233,90,33,42,15]).reshape(1, -1))"
   ]
  },
  {
   "cell_type": "code",
   "execution_count": 135,
   "metadata": {
    "collapsed": false
   },
   "outputs": [
    {
     "data": {
      "text/plain": [
       "array([1])"
      ]
     },
     "execution_count": 135,
     "metadata": {},
     "output_type": "execute_result"
    }
   ],
   "source": [
    "clf.predict(np.array([0,0,0,0,220,229,250,260,255,223,254,220,250,238,224,248,233,242,234]).reshape(1, -1))"
   ]
  },
  {
   "cell_type": "code",
   "execution_count": 1,
   "metadata": {
    "collapsed": false
   },
   "outputs": [
    {
     "ename": "NameError",
     "evalue": "name 'os' is not defined",
     "output_type": "error",
     "traceback": [
      "\u001b[1;31m---------------------------------------------------------------------------\u001b[0m",
      "\u001b[1;31mNameError\u001b[0m                                 Traceback (most recent call last)",
      "\u001b[1;32m<ipython-input-1-60405f0986c8>\u001b[0m in \u001b[0;36m<module>\u001b[1;34m()\u001b[0m\n\u001b[1;32m----> 1\u001b[1;33m \u001b[1;32mfor\u001b[0m \u001b[0mfile_name\u001b[0m \u001b[1;32min\u001b[0m \u001b[0mos\u001b[0m\u001b[1;33m.\u001b[0m\u001b[0mlistdir\u001b[0m\u001b[1;33m(\u001b[0m\u001b[1;34m\"point\"\u001b[0m\u001b[1;33m)\u001b[0m\u001b[1;33m:\u001b[0m\u001b[1;33m\u001b[0m\u001b[0m\n\u001b[0m\u001b[0;32m      2\u001b[0m     \u001b[1;32mwith\u001b[0m \u001b[0mopen\u001b[0m\u001b[1;33m(\u001b[0m\u001b[1;34m\"stick/\"\u001b[0m \u001b[1;33m+\u001b[0m \u001b[0mfile_name\u001b[0m\u001b[1;33m,\u001b[0m \u001b[1;34m\"r\"\u001b[0m\u001b[1;33m)\u001b[0m \u001b[1;32mas\u001b[0m \u001b[0mf\u001b[0m\u001b[1;33m:\u001b[0m\u001b[1;33m\u001b[0m\u001b[0m\n\u001b[0;32m      3\u001b[0m         \u001b[0mX_train\u001b[0m \u001b[1;33m=\u001b[0m \u001b[0mpnd\u001b[0m\u001b[1;33m.\u001b[0m\u001b[0mread_csv\u001b[0m\u001b[1;33m(\u001b[0m\u001b[0mf\u001b[0m\u001b[1;33m)\u001b[0m\u001b[1;33m\u001b[0m\u001b[0m\n\u001b[0;32m      4\u001b[0m         \u001b[0mbad_idxs_t\u001b[0m \u001b[1;33m=\u001b[0m \u001b[1;33m[\u001b[0m\u001b[1;33m]\u001b[0m\u001b[1;33m\u001b[0m\u001b[0m\n\u001b[0;32m      5\u001b[0m         \u001b[1;32mfor\u001b[0m \u001b[0mi\u001b[0m \u001b[1;32min\u001b[0m \u001b[0mrange\u001b[0m\u001b[1;33m(\u001b[0m\u001b[0mX_train\u001b[0m\u001b[1;33m.\u001b[0m\u001b[0mshape\u001b[0m\u001b[1;33m[\u001b[0m\u001b[1;36m0\u001b[0m\u001b[1;33m]\u001b[0m\u001b[1;33m)\u001b[0m\u001b[1;33m:\u001b[0m\u001b[1;33m\u001b[0m\u001b[0m\n",
      "\u001b[1;31mNameError\u001b[0m: name 'os' is not defined"
     ]
    }
   ],
   "source": [
    "for file_name in os.listdir(\"point\"):\n",
    "    with open(\"stick/\" + file_name, \"r\") as f:\n",
    "        X_train = pnd.read_csv(f)\n",
    "        bad_idxs_t = []\n",
    "        for i in range(X_train.shape[0]):\n",
    "            if max(X_train.iloc[i]) < 20:\n",
    "                bad_idxs_t.append(i)\n",
    "        X_train = X_train.drop(bad_idxs_t, axis=0)\n",
    "        print(clf.predict(X_train))"
   ]
  },
  {
   "cell_type": "code",
   "execution_count": 126,
   "metadata": {
    "collapsed": false
   },
   "outputs": [
    {
     "name": "stdout",
     "output_type": "stream",
     "text": [
      "       1    2   3    4   5   6   7   8    9   10   11   12   13   14   15  \\\n",
      "0      4    2   1   23  11   4   1   6   18   48   32    2    3    4    7   \n",
      "1      6    3   2   36  16   5   2   8   32   89   47    3    5    7   11   \n",
      "2     10    5   3   62  27   9   3  14   56  158   75    6    8   12   19   \n",
      "3     14    7   4   82  36  13   3  19   74  210   93   10   12   17   26   \n",
      "4     16    7   4   87  39  15   4  22   84  233  100   12   14   20   31   \n",
      "5     20    9   5  101  45  17   5  27   96  255  109   14   16   23   34   \n",
      "6     25   11   6  115  51  19   5  29   99  255  116   15   17   23   34   \n",
      "7     28   12   6  123  54  21   6  29   99  255  122   18   17   23   34   \n",
      "8     31   14   7  132  58  23   7  31  105  255  133   22   19   26   38   \n",
      "9     35   16   9  142  63  25   8  34  112  255  142   25   22   28   42   \n",
      "10    38   17   9  148  65  26   8  35  112  255  144   26   22   29   42   \n",
      "11    39   18   9  153  67  27   9  36  113  255  148   28   23   29   43   \n",
      "12    42   19  10  159  70  29   9  37  116  255  155   31   24   31   46   \n",
      "13    43   20  11  161  71  29  10  38  118  255  157   33   25   31   47   \n",
      "14    43   20  11  162  71  29  10  38  119  255  156   33   25   32   47   \n",
      "15    43   20  11  162  71  29  10  38  118  255  156   33   25   32   47   \n",
      "16    45   21  11  164  72  30  10  39  120  255  160   35   26   32   48   \n",
      "17    46   21  12  165  73  31  11  40  122  255  162   36   26   33   49   \n",
      "18    45   21  11  165  72  30  10  40  121  255  160   35   26   33   49   \n",
      "19    43   20  11  161  70  29  10  38  118  255  155   33   25   31   47   \n",
      "20    38   18   9  147  65  27   8  34  111  255  142   28   22   28   42   \n",
      "21    29   13   7  123  53  22   5  26   93  255  114   18   17   22   32   \n",
      "22    17    8   4   84  34  13   3  15   63  199   74    7   10   13   18   \n",
      "23     8    4   2   42  16   6   1   7   31  110   36    2    5    6    8   \n",
      "24     3    2   1    9   5   2   1   2    6   21    7    1    2    2    3   \n",
      "44     4    9   4    5   8   5   2   3    5   23    3    1    3    8    5   \n",
      "45     6   19   6    7  12   8   3   3    7   48    4    2    3   12    7   \n",
      "46    10   36   9   11  21  15   4   5   12   98    7    2    5   22   13   \n",
      "47    16   58  14   18  33  24   7   8   18  161   11    3    8   35   23   \n",
      "48    24   84  22   28  49  38  11  13   26  232   17    4   12   50   39   \n",
      "...   ..  ...  ..  ...  ..  ..  ..  ..  ...  ...  ...  ...  ...  ...  ...   \n",
      "1124  25  157  19   27  60  34  18  18   41  229   27   17   27  129   54   \n",
      "1125  25  157  19   27  60  35  18  18   42  233   27   17   27  131   55   \n",
      "1126  25  160  19   28  62  36  19  19   43  240   28   17   28  136   57   \n",
      "1127  26  162  20   28  63  36  19  19   44  246   29   18   29  141   58   \n",
      "1128  26  164  20   29  64  37  19  19   45  251   29   18   30  144   59   \n",
      "1129  26  166  20   29  65  38  20  20   46  254   30   18   31  146   60   \n",
      "1130  26  166  20   29  65  38  20  20   46  255   30   18   31  147   60   \n",
      "1131  26  163  20   28  63  37  19  19   45  251   29   18   30  143   58   \n",
      "1132  24  153  19   27  59  35  18  18   42  236   27   16   28  133   53   \n",
      "1133  20  129  16   23  47  29  14  16   35  199   22   14   23  108   42   \n",
      "1134  16   80  12   18  27  18  10  12   21  114   15   11   15   57   26   \n",
      "1135  13   23   9   15  15  11   9  11   13   29   11    9   11   17   19   \n",
      "1150  17   11   9   28  23  14  16  23   80   87   29   15   14   15   26   \n",
      "1151  19   13  10   33  29  19  21  26  103  113   39   18   15   16   29   \n",
      "1152  22   14  11   40  36  23  28  35  131  147   53   24   18   19   35   \n",
      "1153  26   16  13   49  45  29  37  45  167  193   68   31   22   22   43   \n",
      "1154  28   17  14   55  50  32  41  51  187  219   76   34   24   25   48   \n",
      "1155  30   18  15   58  53  33  42  55  198  230   78   34   26   26   50   \n",
      "1156  31   18  14   60  53  32  40  56  202  231   77   31   27   26   49   \n",
      "1157  31   18  14   60  53  32  41  55  204  237   79   33   27   27   51   \n",
      "1158  30   18  14   58  53  33  42  52  201  236   80   34   27   27   52   \n",
      "1159  29   18  14   56  51  32  42  50  198  235   80   35   26   27   52   \n",
      "1160  28   17  14   55  50  32  42  48  194  233   80   35   26   26   52   \n",
      "1161  27   17  14   53  49  32  42  46  191  230   79   35   25   26   52   \n",
      "1162  27   17  14   51  48  31  41  43  184  223   76   34   24   25   50   \n",
      "1163  26   16  13   49  45  29  38  38  173  207   68   30   22   23   45   \n",
      "1164  24   15  12   46  42  27  33  34  158  187   58   24   20   21   39   \n",
      "1165  22   14  11   40  36  23  26  28  136  158   47   20   17   18   34   \n",
      "1166  18   12  10   30  27  18  17  20   95  109   30   14   14   15   27   \n",
      "1167  14   10   9   18  16  10   9  11   22   27   11    9   10   12   19   \n",
      "\n",
      "       16   17   18   19  \n",
      "0       4    7    3    3  \n",
      "1       7   10    5    5  \n",
      "2      12    7    9    7  \n",
      "3      16    7   12   10  \n",
      "4      19    8   15   12  \n",
      "5      21   10   17   14  \n",
      "6      21    9   16   13  \n",
      "7      21   10   17   14  \n",
      "8      24   12   19   16  \n",
      "9      26   13   22   19  \n",
      "10     26   14   22   19  \n",
      "11     27   14   23   20  \n",
      "12     29   15   24   22  \n",
      "13     29   15   25   23  \n",
      "14     30   15   26   23  \n",
      "15     30   15   26   23  \n",
      "16     31   16   26   24  \n",
      "17     31   16   27   25  \n",
      "18     30   15   27   24  \n",
      "19     29   14   26   23  \n",
      "20     25   12   22   20  \n",
      "21     18    9   16   14  \n",
      "22     10    4    9    7  \n",
      "23      4    1    4    4  \n",
      "24      1    0    1    2  \n",
      "44      2    2    3    2  \n",
      "45      2    2    6    3  \n",
      "46      3    4   19    4  \n",
      "47      4   10   37    5  \n",
      "48      5   12   63    8  \n",
      "...   ...  ...  ...  ...  \n",
      "1124   29   20   39   34  \n",
      "1125   29   20   40   35  \n",
      "1126   30   20   42   37  \n",
      "1127   31   21   43   38  \n",
      "1128   32   21   44   39  \n",
      "1129   33   21   45   39  \n",
      "1130   33   21   45   40  \n",
      "1131   32   19   43   38  \n",
      "1132   29   17   38   35  \n",
      "1133   23   13   29   29  \n",
      "1134   16    8   17   21  \n",
      "1135   12    5   12   17  \n",
      "1150   14    8   16   19  \n",
      "1151   15    9   18   21  \n",
      "1152   17   11   21   24  \n",
      "1153   20   14   26   28  \n",
      "1154   22   15   30   31  \n",
      "1155   22   17   31   31  \n",
      "1156   21   17   31   31  \n",
      "1157   22   18   32   32  \n",
      "1158   23   17   32   33  \n",
      "1159   23   17   33   34  \n",
      "1160   24   16   33   34  \n",
      "1161   24   15   32   33  \n",
      "1162   23   14   30   32  \n",
      "1163   20   13   27   29  \n",
      "1164   18   12   23   25  \n",
      "1165   16    9   20   22  \n",
      "1166   14    8   16   19  \n",
      "1167   12    5   12   16  \n",
      "\n",
      "[756 rows x 19 columns]\n"
     ]
    }
   ],
   "source": [
    "X_t = pnd.read_csv(\"test_data_new/18-02-03.csv\")\n",
    "bad_idxs_t = []\n",
    "for i in range(X_t.shape[0]):\n",
    "    #print(i)\n",
    "    if max(X_t.iloc[i]) < 20:\n",
    "        #print(i)\n",
    "        bad_idxs_t.append(i)\n",
    "X_t = X_t.drop(bad_idxs_t, axis=0)\n",
    "print(X_t)\n",
    "line = []\n",
    "#clf.predict(X_t)\n",
    "line = clf.predict(X_t)\n",
    "#print(clf.predict(X_t))"
   ]
  },
  {
   "cell_type": "code",
   "execution_count": 127,
   "metadata": {
    "collapsed": false
   },
   "outputs": [
    {
     "data": {
      "text/plain": [
       "array([1, 1, 1, 1, 1, 1, 1, 1, 1, 1, 1, 1, 1, 1, 1, 1, 1, 1, 1, 1, 1, 1, 2,\n",
       "       2, 2, 2, 2, 2, 2, 2, 1, 2, 2, 2, 2, 2, 2, 2, 2, 2, 2, 2, 2, 2, 2, 2,\n",
       "       2, 2, 2, 1, 2, 2, 2, 1, 1, 1, 1, 1, 1, 1, 1, 1, 1, 1, 1, 1, 1, 1, 1,\n",
       "       2, 2, 2, 2, 1, 2, 1, 1, 1, 1, 1, 1, 1, 1, 1, 1, 1, 1, 1, 1, 1, 2, 2,\n",
       "       2, 2, 2, 2, 2, 2, 2, 2, 2, 2, 2, 2, 2, 2, 2, 2, 2, 2, 2, 2, 2, 2, 2,\n",
       "       2, 2, 2, 2, 2, 2, 1, 2, 1, 1, 2, 2, 1, 1, 1, 1, 1, 1, 1, 2, 2, 2, 2,\n",
       "       2, 2, 2, 1, 2, 2, 2, 2, 2, 1, 2, 2, 1, 1, 1, 1, 1, 1, 1, 2, 2, 2, 2,\n",
       "       2, 2, 2, 2, 1, 2, 2, 2, 2, 2, 2, 2, 2, 2, 2, 2, 2, 2, 2, 2, 2, 2, 2,\n",
       "       2, 2, 2, 2, 2, 2, 2, 2, 2, 2, 2, 2, 2, 2, 2, 2, 2, 2, 2, 2, 2, 2, 2,\n",
       "       2, 2, 2, 2, 2, 2, 2, 2, 2, 2, 2, 2, 2, 2, 2, 2, 2, 2, 2, 2, 1, 1, 2,\n",
       "       2, 2, 2, 2, 2, 2, 2, 2, 2, 2, 2, 2, 1, 2, 2, 2, 2, 2, 2, 2, 2, 2, 2,\n",
       "       1, 1, 1, 1, 1, 1, 2, 2, 2, 2, 2, 2, 2, 2, 1, 2, 2, 2, 1, 2, 2, 2, 2,\n",
       "       2, 2, 2, 2, 2, 2, 2, 2, 2, 1, 1, 1, 1, 1, 2, 2, 2, 2, 2, 2, 2, 2, 2,\n",
       "       2, 2, 2, 2, 2, 2, 2, 2, 2, 2, 2, 2, 2, 2, 2, 2, 2, 2, 2, 2, 2, 2, 2,\n",
       "       2, 2, 2, 1, 2, 1, 1, 1, 1, 1, 1, 1, 1, 1, 2, 2, 2, 2, 2, 2, 2, 2, 2,\n",
       "       2, 2, 2, 2, 2, 2, 2, 2, 2, 2, 2, 2, 2, 2, 2, 2, 2, 2, 2, 2, 2, 2, 2,\n",
       "       1, 2, 2, 2, 2, 2, 2, 2, 2, 2, 2, 2, 2, 2, 2, 2, 2, 2, 2, 2, 1, 1, 2,\n",
       "       2, 2, 2, 2, 2, 2, 1, 2, 2, 2, 2, 2, 2, 2, 2, 2, 2, 2, 2, 2, 2, 1, 2,\n",
       "       2, 2, 2, 2, 2, 2, 2, 2, 1, 2, 2, 2, 2, 2, 2, 2, 2, 2, 2, 2, 2, 2, 2,\n",
       "       2, 2, 2, 2, 2, 2, 2, 2, 2, 2, 2, 2, 2, 2, 2, 2, 2, 2, 2, 2, 2, 2, 2,\n",
       "       2, 2, 2, 2, 2, 2, 2, 2, 2, 2, 2, 2, 2, 2, 2, 2, 2, 2, 2, 2, 1, 1, 1,\n",
       "       1, 1, 2, 2, 2, 2, 2, 2, 2, 2, 1, 2, 2, 2, 2, 2, 2, 2, 2, 2, 2, 2, 1,\n",
       "       1, 1, 1, 1, 1, 1, 1, 1, 1, 1, 2, 2, 2, 2, 2, 2, 2, 2, 2, 2, 2, 2, 2,\n",
       "       2, 2, 2, 2, 2, 2, 2, 2, 2, 2, 2, 2, 2, 2, 2, 2, 2, 2, 2, 2, 2, 2, 2,\n",
       "       2, 2, 2, 2, 2, 2, 2, 2, 2, 2, 2, 2, 2, 2, 2, 2, 2, 2, 2, 2, 2, 2, 2,\n",
       "       2, 2, 2, 2, 2, 1, 2, 2, 2, 2, 2, 1, 2, 2, 2, 2, 2, 2, 2, 2, 2, 2, 2,\n",
       "       2, 2, 2, 2, 2, 2, 2, 2, 2, 2, 2, 2, 2, 2, 2, 2, 2, 2, 2, 2, 2, 2, 2,\n",
       "       2, 2, 2, 2, 1, 1, 1, 1, 1, 2, 2, 2, 2, 2, 2, 2, 2, 2, 2, 2, 2, 2, 2,\n",
       "       2, 2, 2, 2, 2, 2, 2, 2, 2, 2, 2, 2, 2, 2, 2, 2, 2, 2, 2, 2, 2, 2, 2,\n",
       "       2, 2, 2, 2, 2, 2, 2, 2, 2, 2, 2, 2, 2, 2, 2, 2, 2, 2, 2, 2, 2, 2, 2,\n",
       "       2, 2, 2, 2, 2, 2, 2, 2, 2, 2, 2, 2, 2, 2, 2, 2, 2, 2, 2, 2, 2, 2, 2,\n",
       "       2, 2, 2, 2, 2, 2, 2, 2, 2, 2, 2, 2, 2, 2, 2, 2, 2, 2, 2, 2, 2, 2, 2,\n",
       "       2, 2, 2, 2, 2, 2, 2, 2, 2, 2, 2, 2, 2, 2, 2, 2, 2, 2, 2, 2])"
      ]
     },
     "execution_count": 127,
     "metadata": {},
     "output_type": "execute_result"
    }
   ],
   "source": [
    "line"
   ]
  },
  {
   "cell_type": "code",
   "execution_count": null,
   "metadata": {
    "collapsed": true
   },
   "outputs": [],
   "source": []
  }
 ],
 "metadata": {
  "kernelspec": {
   "display_name": "Python 3",
   "language": "python",
   "name": "python3"
  },
  "language_info": {
   "codemirror_mode": {
    "name": "ipython",
    "version": 3
   },
   "file_extension": ".py",
   "mimetype": "text/x-python",
   "name": "python",
   "nbconvert_exporter": "python",
   "pygments_lexer": "ipython3",
   "version": "3.5.1"
  }
 },
 "nbformat": 4,
 "nbformat_minor": 0
}
