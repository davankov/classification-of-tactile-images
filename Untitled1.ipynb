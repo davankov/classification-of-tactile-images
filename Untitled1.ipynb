{
 "cells": [
  {
   "cell_type": "code",
   "execution_count": 154,
   "metadata": {
    "collapsed": true
   },
   "outputs": [],
   "source": [
    "%matplotlib inline\n",
    "import os\n",
    "import pandas as pnd\n",
    "import numpy as np\n",
    "import matplotlib.pyplot as plt\n",
    "import sklearn\n",
    "from sklearn.decomposition import PCA\n",
    "from sklearn.cluster import KMeans\n",
    "from sklearn import ensemble\n",
    "from sklearn import cross_validation"
   ]
  },
  {
   "cell_type": "code",
   "execution_count": 29,
   "metadata": {
    "collapsed": false
   },
   "outputs": [
    {
     "data": {
      "text/html": [
       "<div>\n",
       "<table border=\"1\" class=\"dataframe\">\n",
       "  <thead>\n",
       "    <tr style=\"text-align: right;\">\n",
       "      <th></th>\n",
       "      <th>0</th>\n",
       "      <th>1</th>\n",
       "      <th>2</th>\n",
       "      <th>3</th>\n",
       "      <th>4</th>\n",
       "      <th>5</th>\n",
       "      <th>6</th>\n",
       "      <th>7</th>\n",
       "      <th>8</th>\n",
       "      <th>9</th>\n",
       "      <th>10</th>\n",
       "      <th>11</th>\n",
       "      <th>12</th>\n",
       "      <th>13</th>\n",
       "      <th>14</th>\n",
       "      <th>15</th>\n",
       "      <th>16</th>\n",
       "      <th>17</th>\n",
       "      <th>18</th>\n",
       "      <th>19</th>\n",
       "    </tr>\n",
       "  </thead>\n",
       "  <tbody>\n",
       "    <tr>\n",
       "      <th>3823</th>\n",
       "      <td>3</td>\n",
       "      <td>12</td>\n",
       "      <td>14</td>\n",
       "      <td>9</td>\n",
       "      <td>14</td>\n",
       "      <td>30</td>\n",
       "      <td>21</td>\n",
       "      <td>6</td>\n",
       "      <td>26</td>\n",
       "      <td>88</td>\n",
       "      <td>38</td>\n",
       "      <td>21</td>\n",
       "      <td>18</td>\n",
       "      <td>40</td>\n",
       "      <td>32</td>\n",
       "      <td>16</td>\n",
       "      <td>25</td>\n",
       "      <td>18</td>\n",
       "      <td>8</td>\n",
       "      <td>2</td>\n",
       "    </tr>\n",
       "    <tr>\n",
       "      <th>3824</th>\n",
       "      <td>3</td>\n",
       "      <td>12</td>\n",
       "      <td>14</td>\n",
       "      <td>9</td>\n",
       "      <td>14</td>\n",
       "      <td>30</td>\n",
       "      <td>21</td>\n",
       "      <td>6</td>\n",
       "      <td>26</td>\n",
       "      <td>87</td>\n",
       "      <td>37</td>\n",
       "      <td>20</td>\n",
       "      <td>18</td>\n",
       "      <td>39</td>\n",
       "      <td>31</td>\n",
       "      <td>16</td>\n",
       "      <td>25</td>\n",
       "      <td>18</td>\n",
       "      <td>7</td>\n",
       "      <td>2</td>\n",
       "    </tr>\n",
       "    <tr>\n",
       "      <th>3825</th>\n",
       "      <td>3</td>\n",
       "      <td>12</td>\n",
       "      <td>14</td>\n",
       "      <td>9</td>\n",
       "      <td>14</td>\n",
       "      <td>30</td>\n",
       "      <td>20</td>\n",
       "      <td>6</td>\n",
       "      <td>26</td>\n",
       "      <td>86</td>\n",
       "      <td>37</td>\n",
       "      <td>20</td>\n",
       "      <td>18</td>\n",
       "      <td>39</td>\n",
       "      <td>31</td>\n",
       "      <td>15</td>\n",
       "      <td>25</td>\n",
       "      <td>18</td>\n",
       "      <td>7</td>\n",
       "      <td>2</td>\n",
       "    </tr>\n",
       "    <tr>\n",
       "      <th>3826</th>\n",
       "      <td>3</td>\n",
       "      <td>12</td>\n",
       "      <td>13</td>\n",
       "      <td>9</td>\n",
       "      <td>13</td>\n",
       "      <td>30</td>\n",
       "      <td>20</td>\n",
       "      <td>6</td>\n",
       "      <td>25</td>\n",
       "      <td>86</td>\n",
       "      <td>36</td>\n",
       "      <td>20</td>\n",
       "      <td>18</td>\n",
       "      <td>38</td>\n",
       "      <td>31</td>\n",
       "      <td>15</td>\n",
       "      <td>24</td>\n",
       "      <td>18</td>\n",
       "      <td>7</td>\n",
       "      <td>2</td>\n",
       "    </tr>\n",
       "    <tr>\n",
       "      <th>3827</th>\n",
       "      <td>3</td>\n",
       "      <td>12</td>\n",
       "      <td>13</td>\n",
       "      <td>9</td>\n",
       "      <td>13</td>\n",
       "      <td>29</td>\n",
       "      <td>20</td>\n",
       "      <td>6</td>\n",
       "      <td>25</td>\n",
       "      <td>85</td>\n",
       "      <td>36</td>\n",
       "      <td>20</td>\n",
       "      <td>17</td>\n",
       "      <td>38</td>\n",
       "      <td>30</td>\n",
       "      <td>15</td>\n",
       "      <td>24</td>\n",
       "      <td>18</td>\n",
       "      <td>7</td>\n",
       "      <td>2</td>\n",
       "    </tr>\n",
       "  </tbody>\n",
       "</table>\n",
       "</div>"
      ],
      "text/plain": [
       "      0   1   2   3   4   5   6   7   8   9   10  11  12  13  14  15  16  17  \\\n",
       "3823   3  12  14   9  14  30  21   6  26  88  38  21  18  40  32  16  25  18   \n",
       "3824   3  12  14   9  14  30  21   6  26  87  37  20  18  39  31  16  25  18   \n",
       "3825   3  12  14   9  14  30  20   6  26  86  37  20  18  39  31  15  25  18   \n",
       "3826   3  12  13   9  13  30  20   6  25  86  36  20  18  38  31  15  24  18   \n",
       "3827   3  12  13   9  13  29  20   6  25  85  36  20  17  38  30  15  24  18   \n",
       "\n",
       "      18  19  \n",
       "3823   8   2  \n",
       "3824   7   2  \n",
       "3825   7   2  \n",
       "3826   7   2  \n",
       "3827   7   2  "
      ]
     },
     "execution_count": 29,
     "metadata": {},
     "output_type": "execute_result"
    }
   ],
   "source": [
    "data = pnd.read_csv(\"data (train)/train.csv\", header=None)\n",
    "data.tail()"
   ]
  },
  {
   "cell_type": "code",
   "execution_count": 133,
   "metadata": {
    "collapsed": false
   },
   "outputs": [
    {
     "name": "stdout",
     "output_type": "stream",
     "text": [
      "       0   1   2    3    4   5   6   7    8    9   10  11  12   13  14  15  \\\n",
      "0     255  13   0  109  255   0   0   0  229   94   0   0   8  126   0   0   \n",
      "1     255  15   0  114  255   0   0   0  241   99   0   0   8  135   0   0   \n",
      "2     255  16   0  121  255   0   0   0  255  105   0   0  10  149   0   0   \n",
      "3     255  15   0  128  255   0   0   0  255  108   0   0  11  161   0   0   \n",
      "4     255  15   0  131  255   0   0   0  255  110   0   0  11  163   0   0   \n",
      "5     255  16   0  132  255   0   0   0  255  112   0   0  11  165   0   0   \n",
      "6     255  17   0  136  255   0   0   0  255  117   0   0  13  177   0   0   \n",
      "7     255  17   0  142  255   0   0   0  255  122   0   0  15  191   0   0   \n",
      "8     255  17   0  150  255   0   0   0  255  127   0   0  17  208   0   0   \n",
      "9     255  17   0  157  255   0   0   0  255  132   0   0  19  223   0   0   \n",
      "10    255  19   0  161  255   0   0   0  255  135   0   0  19  224   0   0   \n",
      "11    255  19   0  162  255   0   0   0  255  137   0   0  19  229   0   0   \n",
      "12    255  19   0  162  255   0   0   0  255  137   0   0  19  229   0   0   \n",
      "13    255  18   0  163  255   0   0   0  255  139   0   0  21  242   0   0   \n",
      "14    255  17   0  160  255   0   0   0  255  135   0   0  20  233   0   0   \n",
      "15    255  18   0  156  255   0   0   0  255  132   0   0  18  221   0   0   \n",
      "16    255  18   0  158  255   0   0   0  255  132   0   0  18  221   0   0   \n",
      "17    255  19   0  160  255   0   0   0  255  133   0   0  18  222   0   0   \n",
      "18    255  19   0  162  255   0   0   0  255  133   0   0  18  220   0   0   \n",
      "19    255  19   0  162  255   0   0   0  255  132   0   0  18  220   0   0   \n",
      "20    255  19   0  167  255   0   0   0  255  137   0   0  20  234   0   0   \n",
      "21    255  18   0  168  255   0   0   0  255  137   0   0  21  238   0   0   \n",
      "22    255  18   0  166  255   0   0   0  255  137   0   0  21  239   0   0   \n",
      "23    255  18   0  165  255   0   0   0  255  137   0   0  21  240   0   0   \n",
      "24    255  18   0  164  255   0   0   0  255  137   0   0  21  239   0   0   \n",
      "25    255  18   0  165  255   0   0   0  255  135   0   0  21  235   0   0   \n",
      "26    255  19   0  166  255   0   0   0  255  135   0   0  21  234   0   0   \n",
      "27    255  19   0  168  255   0   0   0  255  134   0   0  21  232   0   0   \n",
      "28    255  18   0  165  255   0   0   0  255  129   0   0  19  220   0   0   \n",
      "29    255  16   0  152  255   0   0   0  255  118   0   0  15  194   0   0   \n",
      "...   ...  ..  ..  ...  ...  ..  ..  ..  ...  ...  ..  ..  ..  ...  ..  ..   \n",
      "3798    4  13  15   10   16  33  23   7   28   89  41  23  19   42  35  17   \n",
      "3799    4  14  16   11   17  35  24   7   30   94  44  25  21   45  38  18   \n",
      "3800    4  15  17   11   17  36  25   8   31   99  46  26  22   47  40  19   \n",
      "3801    5  15  18   12   18  38  27   8   33  104  48  28  23   50  42  20   \n",
      "3802    5  16  18   12   18  38  27   8   33  105  48  28  23   50  42  20   \n",
      "3803    5  16  18   12   18  38  26   8   33  105  48  27  23   50  42  20   \n",
      "3804    5  15  18   12   18  38  26   8   32  104  48  27  23   49  41  20   \n",
      "3805    4  15  18   12   18  37  26   8   32  104  47  27  22   49  41  19   \n",
      "3806    4  15  17   11   18  37  26   8   32  103  47  26  22   48  40  19   \n",
      "3807    4  15  17   11   17  37  25   8   32  103  46  26  22   48  40  19   \n",
      "3808    4  15  17   11   17  36  25   8   31  102  46  26  22   48  40  19   \n",
      "3809    4  15  17   11   17  36  25   8   31  102  46  26  22   47  39  19   \n",
      "3810    4  15  17   11   17  36  25   8   31  101  45  25  21   47  39  19   \n",
      "3811    4  14  16   11   16  35  24   7   30   98  43  24  21   45  37  18   \n",
      "3812    4  14  16   10   16  34  23   7   29   96  42  24  20   44  36  18   \n",
      "3813    4  14  16   10   16  34  23   7   29   95  42  23  20   44  35  17   \n",
      "3814    4  13  16   10   16  33  23   7   29   95  42  23  20   43  35  17   \n",
      "3815    4  13  15   10   15  33  23   7   29   94  41  23  20   43  35  17   \n",
      "3816    4  13  15   10   15  33  22   7   28   94  41  23  20   43  35  17   \n",
      "3817    4  13  15   10   15  32  22   7   28   93  40  22  19   42  34  17   \n",
      "3818    4  13  15   10   15  32  22   7   28   91  40  22  19   41  33  16   \n",
      "3819    3  13  14   10   14  31  21   6   27   90  39  21  19   41  33  16   \n",
      "3820    3  12  14    9   14  31  21   6   27   89  38  21  19   40  32  16   \n",
      "3821    3  12  14    9   14  31  21   6   26   88  38  21  18   40  32  16   \n",
      "3822    3  12  14    9   14  31  21   6   26   88  38  21  18   40  32  16   \n",
      "3823    3  12  14    9   14  30  21   6   26   88  38  21  18   40  32  16   \n",
      "3824    3  12  14    9   14  30  21   6   26   87  37  20  18   39  31  16   \n",
      "3825    3  12  14    9   14  30  20   6   26   86  37  20  18   39  31  15   \n",
      "3826    3  12  13    9   13  30  20   6   25   86  36  20  18   38  31  15   \n",
      "3827    3  12  13    9   13  29  20   6   25   85  36  20  17   38  30  15   \n",
      "\n",
      "       16  17  18  \n",
      "0      52  22   0  \n",
      "1      55  24   0  \n",
      "2      62  28   0  \n",
      "3      67  31   0  \n",
      "4      68  31   0  \n",
      "5      69  32   0  \n",
      "6      75  35   0  \n",
      "7      81  39   0  \n",
      "8      89  44   0  \n",
      "9      96  48   0  \n",
      "10     96  47   0  \n",
      "11     99  49   0  \n",
      "12     99  49   0  \n",
      "13    105  53   0  \n",
      "14    101  51   0  \n",
      "15     95  47   0  \n",
      "16     95  47   0  \n",
      "17     95  46   0  \n",
      "18     94  46   0  \n",
      "19     94  45   0  \n",
      "20    101  49   0  \n",
      "21    103  51   0  \n",
      "22    103  51   0  \n",
      "23    104  52   0  \n",
      "24    103  51   0  \n",
      "25    102  50   0  \n",
      "26    101  49   0  \n",
      "27    100  48   0  \n",
      "28     94  44   0  \n",
      "29     82  38   0  \n",
      "...   ...  ..  ..  \n",
      "3798   27  20   9  \n",
      "3799   29  21   9  \n",
      "3800   30  22  10  \n",
      "3801   32  23  10  \n",
      "3802   32  23  10  \n",
      "3803   32  23  10  \n",
      "3804   31  23  10  \n",
      "3805   31  23  10  \n",
      "3806   31  23  10  \n",
      "3807   30  22  10  \n",
      "3808   30  22   9  \n",
      "3809   30  22   9  \n",
      "3810   30  22   9  \n",
      "3811   29  21   9  \n",
      "3812   28  21   9  \n",
      "3813   28  20   8  \n",
      "3814   27  20   8  \n",
      "3815   27  20   8  \n",
      "3816   27  20   8  \n",
      "3817   27  20   8  \n",
      "3818   26  19   8  \n",
      "3819   26  19   8  \n",
      "3820   26  19   8  \n",
      "3821   25  19   8  \n",
      "3822   25  19   8  \n",
      "3823   25  18   8  \n",
      "3824   25  18   7  \n",
      "3825   25  18   7  \n",
      "3826   24  18   7  \n",
      "3827   24  18   7  \n",
      "\n",
      "[3828 rows x 19 columns]\n"
     ]
    }
   ],
   "source": [
    "Y = data[19]\n",
    "X = data.iloc[:, 0:19]\n",
    "bad_idxs = []\n",
    "#print(X.shape[0])\n",
    "# for i in range(X.shape[0]):\n",
    "#     #print(i)\n",
    "#     if max(X.iloc[i]) < 200:\n",
    "#         #print(i)\n",
    "#         bad_idxs.append(i)\n",
    "# X = X.drop(bad_idxs, axis=0)\n",
    "print(X)\n",
    "#print(list(Y))\n",
    "# s = 0\n",
    "# for i in range(0, Y.size):\n",
    "#     if Y[i] == 3:\n",
    "#         s += 1\n",
    "# print(s+ 2682)\n",
    "#Y.size"
   ]
  },
  {
   "cell_type": "code",
   "execution_count": 134,
   "metadata": {
    "collapsed": false
   },
   "outputs": [
    {
     "data": {
      "image/png": "[encoded data removed]",
      "text/plain": [
       "<matplotlib.figure.Figure at 0x7f7a0fc5a978>"
      ]
     },
     "metadata": {},
     "output_type": "display_data"
    }
   ],
   "source": [
    "explained = []\n",
    "for i in range(1, 20):\n",
    "    pca = PCA(n_components=i)\n",
    "    pca.fit(X)\n",
    "    explained.append(sum(pca.explained_variance_ratio_))\n",
    "#     print(pca.explained_variance_ratio_)\n",
    "plt.plot(np.arange(1, 20), explained)\n",
    "plt.show()"
   ]
  },
  {
   "cell_type": "code",
   "execution_count": 135,
   "metadata": {
    "collapsed": false
   },
   "outputs": [
    {
     "data": {
      "text/plain": [
       "<matplotlib.collections.LineCollection at 0x7f7a0fcfdcf8>"
      ]
     },
     "execution_count": 135,
     "metadata": {},
     "output_type": "execute_result"
    },
    {
     "data": {
      "image/png": "[encoded data removed]",
      "text/plain": [
       "<matplotlib.figure.Figure at 0x7f7a0fce0a58>"
      ]
     },
     "metadata": {},
     "output_type": "display_data"
    }
   ],
   "source": [
    "t = 15\n",
    "km = KMeans(n_clusters= t)\n",
    "km.fit(X)\n",
    "lables = km.labels_\n",
    "#print(list(lables))\n",
    "#2464, 2682, 3430\n",
    "arr = [0 for i in range(t)]\n",
    "# for i in range(0, lables.size):\n",
    "#     if lables[i] == 0:\n",
    "#         arr[0] = arr[0] +1\n",
    "#     if lables[i] == 1:\n",
    "#         arr[1] = arr[1] +1\n",
    "#     if lables[i] == 2:\n",
    "#         arr[2] = arr[2] +1\n",
    "#     if lables[i] == 3:\n",
    "#         arr[3] = arr[3] +1\n",
    "#     if lables[i] == 4:\n",
    "#         arr[4] = arr[4] +1\n",
    "# print(arr)\n",
    "plt.plot(lables, 'bx')\n",
    "plt.vlines(2464, ymin=0, ymax=t)\n",
    "plt.vlines(2682, ymin=0, ymax=t)\n",
    "plt.vlines(3430, ymin=0, ymax=t)"
   ]
  },
  {
   "cell_type": "code",
   "execution_count": 143,
   "metadata": {
    "collapsed": false
   },
   "outputs": [
    {
     "name": "stdout",
     "output_type": "stream",
     "text": [
      "      Iter       Train Loss   Remaining Time \n",
      "         1        3287.1332           49.23s\n",
      "         2        2974.1337           40.79s\n",
      "         3        2720.7901           37.38s\n",
      "         4        2509.4270           34.59s\n",
      "         5        2323.3598           33.02s\n",
      "         6        2162.2563           31.48s\n",
      "         7        2021.6261           30.75s\n",
      "         8        1905.7838           30.27s\n",
      "         9        1794.8156           29.86s\n",
      "        10        1690.1195           29.27s\n",
      "        20        1114.1809           26.30s\n",
      "        30         832.0981           25.04s\n",
      "        40         646.5950           24.17s\n",
      "        50         521.3178           23.69s\n",
      "        60         428.2586           23.22s\n",
      "        70         360.3637           22.92s\n",
      "        80         310.2830           22.54s\n",
      "        90         269.2391           22.16s\n",
      "       100         236.5766           21.80s\n",
      "       200          92.9219           19.19s\n",
      "       300          55.1644           16.50s\n",
      "       400          44.1026           13.95s\n",
      "       500          39.8936           11.56s\n",
      "       600          38.2651            9.15s\n",
      "       700          37.6019            6.74s\n",
      "       800          37.3170            4.37s\n",
      "       900          37.1665            2.13s\n",
      "      1000          37.0738            0.00s\n",
      "      Iter       Train Loss   Remaining Time \n",
      "         1        3262.8410           25.32s\n",
      "         2        2945.4703           26.41s\n",
      "         3        2687.6738           26.40s\n",
      "         4        2478.5450           27.22s\n",
      "         5        2299.0007           27.02s\n",
      "         6        2145.8211           26.99s\n",
      "         7        2002.3415           26.60s\n",
      "         8        1870.2265           26.61s\n",
      "         9        1762.5280           26.27s\n",
      "        10        1666.4518           26.30s\n",
      "        20        1095.1480           24.61s\n",
      "        30         832.5140           24.48s\n",
      "        40         648.1140           25.34s\n",
      "        50         522.1803           24.49s\n",
      "        60         430.7329           23.85s\n",
      "        70         364.6350           23.71s\n",
      "        80         311.1530           23.96s\n",
      "        90         270.5933           23.48s\n",
      "       100         240.3424           22.96s\n",
      "       200         100.6142           19.59s\n",
      "       300          66.5207           16.81s\n",
      "       400          55.3647           14.17s\n",
      "       500          51.4435           11.66s\n",
      "       600          49.4430            9.24s\n",
      "       700          48.5090            6.83s\n",
      "       800          48.0900            4.49s\n",
      "       900          47.8555            2.21s\n",
      "      1000          47.7342            0.00s\n",
      "      Iter       Train Loss   Remaining Time \n",
      "         1        3292.0238           25.94s\n",
      "         2        2975.9656           27.35s\n",
      "         3        2719.6172           26.97s\n",
      "         4        2514.8949           27.66s\n",
      "         5        2331.6310           27.23s\n",
      "         6        2173.8330           27.34s\n",
      "         7        2041.9423           27.06s\n",
      "         8        1923.6164           27.47s\n",
      "         9        1817.8681           27.26s\n",
      "        10        1726.5586           27.28s\n",
      "        20        1144.4512           26.42s\n",
      "        30         858.5328           26.87s\n",
      "        40         666.9238           26.38s\n",
      "        50         537.7174           25.70s\n",
      "        60         444.8328           24.88s\n",
      "        70         376.9791           24.36s\n",
      "        80         323.8547           23.98s\n",
      "        90         283.0181           23.39s\n",
      "       100         250.2193           22.88s\n",
      "       200         101.0512           19.91s\n",
      "       300          62.1871           17.28s\n",
      "       400          49.3768           14.69s\n",
      "       500          44.9377           12.13s\n",
      "       600          43.0622            9.61s\n",
      "       700          42.2169            7.10s\n",
      "       800          41.8527            4.64s\n",
      "       900          41.6219            2.29s\n",
      "      1000          41.5262            0.00s\n",
      "      Iter       Train Loss   Remaining Time \n",
      "         1        3272.5954           24.93s\n",
      "         2        2958.1182           25.20s\n",
      "         3        2702.7838           25.03s\n",
      "         4        2490.1938           25.13s\n",
      "         5        2310.8792           24.98s\n",
      "         6        2142.8696           24.86s\n",
      "         7        1999.2074           24.92s\n",
      "         8        1876.9439           24.75s\n",
      "         9        1769.1070           24.57s\n",
      "        10        1678.1869           24.49s\n",
      "        20        1110.4854           24.73s\n",
      "        30         830.2385           23.84s\n",
      "        40         639.1346           23.22s\n",
      "        50         522.5512           22.74s\n",
      "        60         432.1213           22.61s\n",
      "        70         365.7951           22.42s\n",
      "        80         317.0494           22.03s\n",
      "        90         279.1847           21.68s\n",
      "       100         248.0395           21.39s\n",
      "       200         104.8706           18.51s\n",
      "       300          68.7982           16.03s\n",
      "       400          55.9295           13.65s\n",
      "       500          51.4645           11.36s\n",
      "       600          49.5681            9.23s\n",
      "       700          48.7630            6.94s\n",
      "       800          48.3457            4.61s\n",
      "       900          48.1879            2.30s\n",
      "      1000          48.0354            0.00s\n",
      "      Iter       Train Loss   Remaining Time \n",
      "         1        3261.9767           23.71s\n",
      "         2        2948.3778           24.34s\n",
      "         3        2695.4559           24.41s\n",
      "         4        2487.9337           24.26s\n",
      "         5        2316.7810           24.31s\n",
      "         6        2154.8608           24.22s\n",
      "         7        2018.7326           24.32s\n",
      "         8        1893.3270           24.42s\n",
      "         9        1781.3469           24.35s\n",
      "        10        1680.1478           24.22s\n",
      "        20        1118.8489           23.81s\n",
      "        30         848.7727           24.06s\n",
      "        40         653.3145           23.49s\n",
      "        50         530.8865           23.02s\n",
      "        60         441.2766           22.72s\n",
      "        70         371.9385           22.58s\n",
      "        80         317.9898           22.24s\n",
      "        90         279.2814           21.89s\n",
      "       100         248.6152           21.62s\n",
      "       200         104.0870           18.94s\n",
      "       300          67.6194           16.42s\n",
      "       400          55.3721           13.97s\n",
      "       500          51.0696           11.61s\n",
      "       600          49.2330            9.23s\n",
      "       700          48.4188            6.84s\n",
      "       800          48.0741            4.50s\n",
      "       900          47.8603            2.22s\n",
      "      1000          47.6594            0.00s\n",
      "0.972309425076\n"
     ]
    },
    {
     "data": {
      "text/plain": [
       "GradientBoostingClassifier(init=None, learning_rate=0.1, loss='deviance',\n",
       "              max_depth=3, max_features=None, max_leaf_nodes=None,\n",
       "              min_samples_leaf=1, min_samples_split=2,\n",
       "              min_weight_fraction_leaf=0.0, n_estimators=1000,\n",
       "              presort='auto', random_state=None, subsample=1.0, verbose=1,\n",
       "              warm_start=False)"
      ]
     },
     "execution_count": 143,
     "metadata": {},
     "output_type": "execute_result"
    }
   ],
   "source": [
    "clf = ensemble.GradientBoostingClassifier(verbose=1, n_estimators=1000)\n",
    "kf = sklearn.cross_validation.KFold(X.shape[0], n_folds=5, shuffle=True, random_state=42)\n",
    "score = sklearn.cross_validation.cross_val_score(clf, X, Y, cv=kf,  scoring='accuracy').mean()\n",
    "print(score)\n",
    "clf"
   ]
  },
  {
   "cell_type": "code",
   "execution_count": 146,
   "metadata": {
    "collapsed": false
   },
   "outputs": [
    {
     "name": "stdout",
     "output_type": "stream",
     "text": [
      "      Iter       Train Loss   Remaining Time \n",
      "         1        4093.8348            1.08m\n",
      "         2        3704.8855           55.34s\n",
      "         3        3386.6418           47.32s\n",
      "         4        3122.0096           44.15s\n",
      "         5        2902.0982           41.27s\n",
      "         6        2704.3692           40.13s\n",
      "         7        2530.5650           38.79s\n",
      "         8        2378.7631           38.11s\n",
      "         9        2249.6597           37.06s\n",
      "        10        2130.9179           36.72s\n",
      "        20        1426.4994           32.23s\n",
      "        30        1074.3957           30.55s\n",
      "        40         833.3970           29.75s\n",
      "        50         675.0722           28.95s\n",
      "        60         559.7446           28.35s\n",
      "        70         476.4290           27.88s\n",
      "        80         412.0037           27.52s\n",
      "        90         362.8081           27.07s\n",
      "       100         323.2388           26.58s\n",
      "       200         139.3702           24.04s\n",
      "       300          88.4867           20.67s\n",
      "       400          70.1912           17.52s\n",
      "       500          63.0309           14.59s\n",
      "       600          59.6335           11.58s\n",
      "       700          58.0974            8.60s\n",
      "       800          57.3907            5.64s\n",
      "       900          56.9684            2.78s\n",
      "      1000          56.7415            0.00s\n"
     ]
    },
    {
     "data": {
      "text/plain": [
       "GradientBoostingClassifier(init=None, learning_rate=0.1, loss='deviance',\n",
       "              max_depth=3, max_features=None, max_leaf_nodes=None,\n",
       "              min_samples_leaf=1, min_samples_split=2,\n",
       "              min_weight_fraction_leaf=0.0, n_estimators=1000,\n",
       "              presort='auto', random_state=None, subsample=1.0, verbose=1,\n",
       "              warm_start=False)"
      ]
     },
     "execution_count": 146,
     "metadata": {},
     "output_type": "execute_result"
    }
   ],
   "source": [
    "clf.fit(X, Y)"
   ]
  },
  {
   "cell_type": "code",
   "execution_count": 150,
   "metadata": {
    "collapsed": false
   },
   "outputs": [
    {
     "data": {
      "text/plain": [
       "array([1])"
      ]
     },
     "execution_count": 150,
     "metadata": {},
     "output_type": "execute_result"
    }
   ],
   "source": [
    "clf.predict(np.array([30,40,240,28,43,244,255,20,53,255,255,144,222,250,255,90,230,201,77]).reshape(1, -1))"
   ]
  },
  {
   "cell_type": "code",
   "execution_count": 151,
   "metadata": {
    "collapsed": false
   },
   "outputs": [
    {
     "data": {
      "text/plain": [
       "array([3])"
      ]
     },
     "execution_count": 151,
     "metadata": {},
     "output_type": "execute_result"
    }
   ],
   "source": [
    "clf.predict(np.array([30,43,32,28,200,180,50,60,220,100,250,80,50,243,233,90,33,42,15]).reshape(1, -1))"
   ]
  },
  {
   "cell_type": "code",
   "execution_count": 152,
   "metadata": {
    "collapsed": false
   },
   "outputs": [
    {
     "data": {
      "text/plain": [
       "array([4])"
      ]
     },
     "execution_count": 152,
     "metadata": {},
     "output_type": "execute_result"
    }
   ],
   "source": [
    "clf.predict(np.array([30,43,32,28,60,29,50,60,55,23,54,60,50,38,24,48,33,42,34]).reshape(1, -1))"
   ]
  },
  {
   "cell_type": "code",
   "execution_count": 158,
   "metadata": {
    "collapsed": false
   },
   "outputs": [
    {
     "name": "stdout",
     "output_type": "stream",
     "text": [
      "[1 1 1 1 1 1 1]\n",
      "[4 4 4 4 4 1]\n",
      "[4 4 4 4 1 1]\n",
      "[4 4 4 4 4 4 4 4 4 4 4 4 4 4 4 4 4 4 4 4 4 4 4 4 4 4 4 4 4 4 4 4 4 4 4 4 4\n",
      " 4 4 4 4 4 4 1]\n",
      "[1 1 1 1 2 1 1]\n",
      "[1 1 1 1 1 1 1 1 1 1 1 1 1 1 1 1 1 1 1 1 1 1 1 1 1 1 1 1 1 1 1 1 1 4 4 4]\n",
      "[4 4 4 4 4 4 4 1 4 1 1 1 1 1 1 1 1]\n",
      "[1 1 1 1 1 1 4 2 1 4 1 3 1 1 4 4 4 4 4 4 4 4 4 4 1 1 1 1]\n",
      "[4 4 4 4 4 4 4 4 4 4 4 4 1]\n",
      "[4 4 2 2 2 1 4 2 4 2 4 4 4 4 4 4 4 1 4 4 4 4 4 4 1 1 1 1 4 4 2 1 4 4]\n",
      "[4 4 4 4 4 4 4 4 4 4 4 4 4 4 4 4 4 1]\n",
      "[4 4 4 1]\n",
      "[4 4 4 4 4 4 4 4 4 4 4 4 4 4 4 4 4 4 4 4 4 4 4 4 4 4 4 4 4 4 4 4 4 4 4 4 4\n",
      " 4 4 4 1 1]\n",
      "[4 4 4 2 2 4 4 4 1]\n"
     ]
    }
   ],
   "source": [
    "for file_name in os.listdir(\"data (train)/mess\"):\n",
    "    with open(\"data (train)/mess/\" + file_name, \"r\") as f:\n",
    "        X_train = pnd.read_csv(f)\n",
    "        print(clf.predict(X_train))"
   ]
  },
  {
   "cell_type": "code",
   "execution_count": null,
   "metadata": {
    "collapsed": true
   },
   "outputs": [],
   "source": []
  }
 ],
 "metadata": {
  "kernelspec": {
   "display_name": "Python 3",
   "language": "python",
   "name": "python3"
  },
  "language_info": {
   "codemirror_mode": {
    "name": "ipython",
    "version": 3
   },
   "file_extension": ".py",
   "mimetype": "text/x-python",
   "name": "python",
   "nbconvert_exporter": "python",
   "pygments_lexer": "ipython3",
   "version": "3.5.1"
  }
 },
 "nbformat": 4,
 "nbformat_minor": 0
}
